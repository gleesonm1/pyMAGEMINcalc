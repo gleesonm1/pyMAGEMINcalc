{
 "cells": [
  {
   "cell_type": "markdown",
   "id": "711f797f",
   "metadata": {},
   "source": [
    "## Testing simple liquidus and crystallisation calculations in pyMAGEMINcalc"
   ]
  },
  {
   "cell_type": "code",
   "execution_count": 1,
   "id": "5a3974fa",
   "metadata": {},
   "outputs": [],
   "source": [
    "import numpy as np\n",
    "import pandas as pd\n",
    "import matplotlib.pyplot as plt\n",
    "import pyMAGEMINcalc as MM"
   ]
  },
  {
   "cell_type": "code",
   "execution_count": 2,
   "id": "e7e4f40d",
   "metadata": {},
   "outputs": [],
   "source": [
    "bulk = {'SiO2_Liq': 48.15,\n",
    "     'TiO2_Liq': 0.69,\n",
    "     'Al2O3_Liq': 14.71,\n",
    "     'FeOt_Liq': 8.33,\n",
    "     'MnO_Liq': 0.18,\n",
    "     'MgO_Liq': 9.12,\n",
    "     'CaO_Liq': 11.77,\n",
    "     'Na2O_Liq': 1.78,\n",
    "     'K2O_Liq': 0.61,\n",
    "     'Cr2O3_Liq': 0.1,\n",
    "     'H2O_Liq': 4.5,\n",
    "     'Fe3Fet_Liq': 0.17}"
   ]
  },
  {
   "cell_type": "code",
   "execution_count": 3,
   "id": "d2a9bd74",
   "metadata": {},
   "outputs": [
    {
     "data": {
      "text/plain": [
       "1092.3000000000006"
      ]
     },
     "execution_count": 3,
     "metadata": {},
     "output_type": "execute_result"
    }
   ],
   "source": [
    "MM.findLiq(P_bar = 2000.0, T_C_init = 1300.0, comp = bulk, fO2_buffer = \"NNO\", fO2_offset = -1)"
   ]
  },
  {
   "cell_type": "code",
   "execution_count": 4,
   "id": "8cea10e6",
   "metadata": {},
   "outputs": [],
   "source": [
    "Results = MM.path(comp = bulk, Frac_solid = True, Frac_fluid = True, \n",
    "                  T_end_C = 800.0, dt_C = 2.0, P_bar = 2000.0, \n",
    "                  find_liquidus = True, fO2_buffer = \"NNO\", fO2_offset = -1)"
   ]
  },
  {
   "cell_type": "code",
   "execution_count": 5,
   "id": "701d1785",
   "metadata": {},
   "outputs": [
    {
     "data": {
      "text/plain": [
       "[<matplotlib.lines.Line2D at 0x21356696850>]"
      ]
     },
     "execution_count": 5,
     "metadata": {},
     "output_type": "execute_result"
    },
    {
     "data": {
      "image/png": "[encoded data removed]",
      "text/plain": [
       "<Figure size 432x288 with 1 Axes>"
      ]
     },
     "metadata": {
      "needs_background": "light"
     },
     "output_type": "display_data"
    }
   ],
   "source": [
    "f, a = plt.subplots(1,1)\n",
    "a.plot(Results['Conditions']['temperature'], Results['liq']['SiO2_Liq'], 'ok')"
   ]
  },
  {
   "cell_type": "code",
   "execution_count": null,
   "id": "0e183c88",
   "metadata": {},
   "outputs": [],
   "source": []
  }
 ],
 "metadata": {
  "kernelspec": {
   "display_name": "Python 3 (ipykernel)",
   "language": "python",
   "name": "python3"
  },
  "language_info": {
   "codemirror_mode": {
    "name": "ipython",
    "version": 3
   },
   "file_extension": ".py",
   "mimetype": "text/x-python",
   "name": "python",
   "nbconvert_exporter": "python",
   "pygments_lexer": "ipython3",
   "version": "3.9.7"
  }
 },
 "nbformat": 4,
 "nbformat_minor": 5
}
